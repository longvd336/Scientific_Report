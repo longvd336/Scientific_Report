version https://git-lfs.github.com/spec/v1
oid sha256:1dbe5c762e07a20a2090d87ff479c6c051ce3e1dbf3c8f12963971d472a240f7
size 619764
