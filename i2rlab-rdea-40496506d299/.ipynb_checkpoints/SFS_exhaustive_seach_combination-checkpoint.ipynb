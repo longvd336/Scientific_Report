version https://git-lfs.github.com/spec/v1
oid sha256:8209bdae5059f5ad4d85b46ac6d6a6ae7b54cd961530fce52725e92e5cacb602
size 638984
