version https://git-lfs.github.com/spec/v1
oid sha256:e6be311ee245d7ae7c8fcc00762175815782963497c490f3298bb08000ae2df6
size 385998
