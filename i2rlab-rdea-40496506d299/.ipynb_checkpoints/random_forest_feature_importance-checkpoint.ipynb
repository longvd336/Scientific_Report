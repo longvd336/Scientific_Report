version https://git-lfs.github.com/spec/v1
oid sha256:257675521dac6d512beb631407af1762acfe4089473c3f7e6c17b8d584ad04ee
size 234735
