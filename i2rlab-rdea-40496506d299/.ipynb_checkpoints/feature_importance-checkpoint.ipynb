version https://git-lfs.github.com/spec/v1
oid sha256:f21385bc3044d42ff52d79c20cc4f2d3269fd862b75ecd268f5f6ef03348ac0c
size 55305
