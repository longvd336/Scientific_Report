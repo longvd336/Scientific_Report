version https://git-lfs.github.com/spec/v1
oid sha256:865c3d64a3c62c710d8fc52b28276d213365d6082fc57f1772278e39b2a80f5b
size 316334
