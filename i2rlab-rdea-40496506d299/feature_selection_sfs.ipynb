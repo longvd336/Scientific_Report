version https://git-lfs.github.com/spec/v1
oid sha256:7d20b93551018df935c5b0020abe20f3360b4e0a1765dc6c0bc7e843fd576949
size 239685
