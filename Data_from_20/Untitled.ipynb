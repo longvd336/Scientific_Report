version https://git-lfs.github.com/spec/v1
oid sha256:de2646d4ee914bc40683bd11c8658d4a35d7e3e81f4a4f0479d969a8e3a50089
size 1398
